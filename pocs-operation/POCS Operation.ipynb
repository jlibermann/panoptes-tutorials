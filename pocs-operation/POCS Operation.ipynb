{
 "cells": [
  {
   "cell_type": "markdown",
   "metadata": {},
   "source": [
    "An instance of `POCS` can be loaded and run as a simulator, which will then allow you to play with various aspects of of `POCS` and allow all of the different parts of the system. \n",
    "\n",
    "Any `INFO` level log messages will be displayed in the notebook but you can check `$PANDIR/logs/panoptes.log` for full debug output"
   ]
  },
  {
   "cell_type": "code",
   "execution_count": 44,
   "metadata": {},
   "outputs": [],
   "source": [
    "# Load the POCS module\n",
    "from panoptes.pocs.core import POCS\n",
    "from panoptes.pocs.observatory import Observatory\n"
   ]
  },
  {
   "cell_type": "code",
   "execution_count": 45,
   "metadata": {
    "collapsed": false,
    "jupyter": {
     "outputs_hidden": false
    }
   },
   "outputs": [
    {
     "ename": "PanError",
     "evalue": "PanError: Bad site information: PanError()",
     "output_type": "error",
     "traceback": [
      "\u001b[0;31m---------------------------------------------------------------------------\u001b[0m",
      "\u001b[0;31mPanError\u001b[0m                                  Traceback (most recent call last)",
      "\u001b[0;32m/var/panoptes/POCS/src/panoptes/pocs/utils/location.py\u001b[0m in \u001b[0;36mcreate_location_from_config\u001b[0;34m(config_port)\u001b[0m\n\u001b[1;32m     32\u001b[0m         \u001b[0;32mif\u001b[0m \u001b[0mconfig_site\u001b[0m \u001b[0;32mis\u001b[0m \u001b[0;32mNone\u001b[0m\u001b[0;34m:\u001b[0m\u001b[0;34m\u001b[0m\u001b[0;34m\u001b[0m\u001b[0m\n\u001b[0;32m---> 33\u001b[0;31m             \u001b[0;32mraise\u001b[0m \u001b[0merror\u001b[0m\u001b[0;34m.\u001b[0m\u001b[0mPanError\u001b[0m\u001b[0;34m(\u001b[0m\u001b[0mmsg\u001b[0m\u001b[0;34m=\u001b[0m\u001b[0;34m'location information not found in config.'\u001b[0m\u001b[0;34m)\u001b[0m\u001b[0;34m\u001b[0m\u001b[0;34m\u001b[0m\u001b[0m\n\u001b[0m\u001b[1;32m     34\u001b[0m \u001b[0;34m\u001b[0m\u001b[0m\n",
      "\u001b[0;31mPanError\u001b[0m: PanError: location information not found in config.",
      "\nDuring handling of the above exception, another exception occurred:\n",
      "\u001b[0;31mPanError\u001b[0m                                  Traceback (most recent call last)",
      "\u001b[0;32m<ipython-input-45-d6d3f909f362>\u001b[0m in \u001b[0;36m<module>\u001b[0;34m\u001b[0m\n\u001b[1;32m      1\u001b[0m \u001b[0;31m# Create an instance of POCS that acts as a simulator\u001b[0m\u001b[0;34m\u001b[0m\u001b[0;34m\u001b[0m\u001b[0;34m\u001b[0m\u001b[0m\n\u001b[0;32m----> 2\u001b[0;31m \u001b[0mobs\u001b[0m \u001b[0;34m=\u001b[0m \u001b[0mObservatory\u001b[0m\u001b[0;34m(\u001b[0m\u001b[0msimulator\u001b[0m\u001b[0;34m=\u001b[0m\u001b[0;34m[\u001b[0m\u001b[0;34m'all'\u001b[0m\u001b[0;34m]\u001b[0m\u001b[0;34m)\u001b[0m\u001b[0;34m\u001b[0m\u001b[0;34m\u001b[0m\u001b[0m\n\u001b[0m\u001b[1;32m      3\u001b[0m \u001b[0mpocs\u001b[0m \u001b[0;34m=\u001b[0m \u001b[0mPOCS\u001b[0m\u001b[0;34m(\u001b[0m\u001b[0;34m'obs'\u001b[0m\u001b[0;34m)\u001b[0m \u001b[0;31m# Could be a list of: 'weather', 'camera', 'mount'\u001b[0m\u001b[0;34m\u001b[0m\u001b[0;34m\u001b[0m\u001b[0m\n",
      "\u001b[0;32m/var/panoptes/POCS/src/panoptes/pocs/observatory.py\u001b[0m in \u001b[0;36m__init__\u001b[0;34m(self, cameras, scheduler, dome, mount, *args, **kwargs)\u001b[0m\n\u001b[1;32m     33\u001b[0m         \u001b[0mself\u001b[0m\u001b[0;34m.\u001b[0m\u001b[0mlogger\u001b[0m\u001b[0;34m.\u001b[0m\u001b[0minfo\u001b[0m\u001b[0;34m(\u001b[0m\u001b[0;34m\"Setting up location\"\u001b[0m\u001b[0;34m)\u001b[0m\u001b[0;34m\u001b[0m\u001b[0;34m\u001b[0m\u001b[0m\n\u001b[1;32m     34\u001b[0m         \u001b[0msite_details\u001b[0m \u001b[0;34m=\u001b[0m \u001b[0mcreate_location_from_config\u001b[0m\u001b[0;34m(\u001b[0m\u001b[0mconfig_port\u001b[0m\u001b[0;34m=\u001b[0m\u001b[0mself\u001b[0m\u001b[0;34m.\u001b[0m\u001b[0mconfig_port\u001b[0m\u001b[0;34m)\u001b[0m\u001b[0;34m\u001b[0m\u001b[0;34m\u001b[0m\u001b[0m\n\u001b[0;32m---> 35\u001b[0;31m         \u001b[0mself\u001b[0m\u001b[0;34m.\u001b[0m\u001b[0mlocation\u001b[0m \u001b[0;34m=\u001b[0m \u001b[0msite_details\u001b[0m\u001b[0;34m[\u001b[0m\u001b[0;34m\"location\"\u001b[0m\u001b[0;34m]\u001b[0m\u001b[0;34m\u001b[0m\u001b[0;34m\u001b[0m\u001b[0m\n\u001b[0m\u001b[1;32m     36\u001b[0m         \u001b[0mself\u001b[0m\u001b[0;34m.\u001b[0m\u001b[0mearth_location\u001b[0m \u001b[0;34m=\u001b[0m \u001b[0msite_details\u001b[0m\u001b[0;34m[\u001b[0m\u001b[0;34m\"earth_location\"\u001b[0m\u001b[0;34m]\u001b[0m\u001b[0;34m\u001b[0m\u001b[0;34m\u001b[0m\u001b[0m\n\u001b[1;32m     37\u001b[0m         \u001b[0mself\u001b[0m\u001b[0;34m.\u001b[0m\u001b[0mobserver\u001b[0m \u001b[0;34m=\u001b[0m \u001b[0msite_details\u001b[0m\u001b[0;34m[\u001b[0m\u001b[0;34m\"observer\"\u001b[0m\u001b[0;34m]\u001b[0m\u001b[0;34m\u001b[0m\u001b[0;34m\u001b[0m\u001b[0m\n",
      "\u001b[0;32m/var/panoptes/POCS/src/panoptes/pocs/utils/location.py\u001b[0m in \u001b[0;36mcreate_location_from_config\u001b[0;34m(config_port)\u001b[0m\n\u001b[1;32m     74\u001b[0m \u001b[0;34m\u001b[0m\u001b[0m\n\u001b[1;32m     75\u001b[0m     \u001b[0;32mexcept\u001b[0m \u001b[0mException\u001b[0m \u001b[0;32mas\u001b[0m \u001b[0me\u001b[0m\u001b[0;34m:\u001b[0m\u001b[0;34m\u001b[0m\u001b[0;34m\u001b[0m\u001b[0m\n\u001b[0;32m---> 76\u001b[0;31m         \u001b[0;32mraise\u001b[0m \u001b[0merror\u001b[0m\u001b[0;34m.\u001b[0m\u001b[0mPanError\u001b[0m\u001b[0;34m(\u001b[0m\u001b[0mmsg\u001b[0m\u001b[0;34m=\u001b[0m\u001b[0;34mf'Bad site information: {e!r}'\u001b[0m\u001b[0;34m)\u001b[0m\u001b[0;34m\u001b[0m\u001b[0;34m\u001b[0m\u001b[0m\n\u001b[0m",
      "\u001b[0;31mPanError\u001b[0m: PanError: Bad site information: PanError()"
     ]
    }
   ],
   "source": [
    "# Create an instance of POCS that acts as a simulator\n",
    "obs = Observatory(simulator=['all'])\n",
    "pocs = POCS('obs') # Could be a list of: 'weather', 'camera', 'mount'"
   ]
  },
  {
   "cell_type": "code",
   "execution_count": null,
   "metadata": {},
   "outputs": [],
   "source": []
  },
  {
   "cell_type": "markdown",
   "metadata": {},
   "source": [
    "The `pocs` instance needs to be initialized, which will set up the cameras, mount, scheduler, etc."
   ]
  },
  {
   "cell_type": "code",
   "execution_count": 10,
   "metadata": {
    "collapsed": false,
    "jupyter": {
     "outputs_hidden": false
    }
   },
   "outputs": [
    {
     "ename": "NameError",
     "evalue": "name 'pocs' is not defined",
     "output_type": "error",
     "traceback": [
      "\u001b[0;31m---------------------------------------------------------------------------\u001b[0m",
      "\u001b[0;31mNameError\u001b[0m                                 Traceback (most recent call last)",
      "\u001b[0;32m<ipython-input-10-9cb3ee1cb83a>\u001b[0m in \u001b[0;36m<module>\u001b[0;34m\u001b[0m\n\u001b[0;32m----> 1\u001b[0;31m \u001b[0mpocs\u001b[0m\u001b[0;34m.\u001b[0m\u001b[0minitialize\u001b[0m\u001b[0;34m(\u001b[0m\u001b[0;34m)\u001b[0m\u001b[0;34m\u001b[0m\u001b[0;34m\u001b[0m\u001b[0m\n\u001b[0m",
      "\u001b[0;31mNameError\u001b[0m: name 'pocs' is not defined"
     ]
    }
   ],
   "source": [
    "pocs.initialize()"
   ]
  },
  {
   "cell_type": "markdown",
   "metadata": {},
   "source": [
    "During automated operations a script would simply call `pocs.run()` and the state machine would begin. However, the `run()` method is a blocking call so you can't interact with the system any more. Here we manually inspect some items."
   ]
  },
  {
   "cell_type": "code",
   "execution_count": 4,
   "metadata": {
    "collapsed": false,
    "jupyter": {
     "outputs_hidden": false
    }
   },
   "outputs": [
    {
     "name": "stdout",
     "output_type": "stream",
     "text": [
      "None\n"
     ]
    }
   ],
   "source": [
    "# Check if we have a current observation:\n",
    "print(pocs.observatory.current_observation)"
   ]
  },
  {
   "cell_type": "code",
   "execution_count": 5,
   "metadata": {
    "collapsed": false,
    "jupyter": {
     "outputs_hidden": false
    }
   },
   "outputs": [
    {
     "name": "stderr",
     "output_type": "stream",
     "text": [
      "2016-11-29 12:29:38 ganymede panoptes[24487] INFO Setting new observation to Kepler 1100: 120.0 s exposures in blocks of 10, minimum 60, priority 125\n"
     ]
    }
   ],
   "source": [
    "# Get an observation by running the scheduler. Check the log file for details\n",
    "new_obs = pocs.observatory.get_observation()"
   ]
  },
  {
   "cell_type": "code",
   "execution_count": 6,
   "metadata": {
    "collapsed": false,
    "jupyter": {
     "outputs_hidden": false
    }
   },
   "outputs": [
    {
     "name": "stdout",
     "output_type": "stream",
     "text": [
      "Kepler 1100: 120.0 s exposures in blocks of 10, minimum 60, priority 125\n"
     ]
    }
   ],
   "source": [
    "print(pocs.observatory.current_observation)"
   ]
  },
  {
   "cell_type": "code",
   "execution_count": 7,
   "metadata": {
    "collapsed": false,
    "jupyter": {
     "outputs_hidden": false
    }
   },
   "outputs": [],
   "source": [
    "# Set a new high priority target. (NOTE this is a totally fake thing)\n",
    "target = {\n",
    "    'name': 'Super Grav Wave Event',\n",
    "    'position': '22h57m47.0s +38d40m30.0s',\n",
    "    'priority': 999,    \n",
    "}\n",
    "\n",
    "pocs.observatory.scheduler.add_observation(target)"
   ]
  },
  {
   "cell_type": "code",
   "execution_count": 8,
   "metadata": {
    "collapsed": false,
    "jupyter": {
     "outputs_hidden": false
    }
   },
   "outputs": [
    {
     "name": "stderr",
     "output_type": "stream",
     "text": [
      "2016-11-29 12:29:53 ganymede panoptes[24487] INFO Setting new observation to Super Grav Wave Event: 120.0 s exposures in blocks of 10, minimum 60, priority 999\n"
     ]
    }
   ],
   "source": [
    "# Get a new observation, which should be our new event\n",
    "new_obs = pocs.observatory.get_observation()"
   ]
  },
  {
   "cell_type": "code",
   "execution_count": 9,
   "metadata": {},
   "outputs": [],
   "source": [
    "pocs.observatory.scheduler.remove_observation('Super Grav Wave Event')"
   ]
  },
  {
   "cell_type": "code",
   "execution_count": 10,
   "metadata": {
    "collapsed": false,
    "jupyter": {
     "outputs_hidden": false
    }
   },
   "outputs": [
    {
     "data": {
      "text/plain": [
       "{'EPIC-211089792': <pocs.scheduler.observation.Observation at 0x7f7a85418eb8>,\n",
       " 'HAT-P-1': <pocs.scheduler.observation.Observation at 0x7f7a85421e10>,\n",
       " 'HAT-P-20': <pocs.scheduler.observation.Observation at 0x7f7a853f8b38>,\n",
       " 'HD 189733': <pocs.scheduler.observation.Observation at 0x7f7a87558c50>,\n",
       " 'HD 209458': <pocs.scheduler.observation.Observation at 0x7f7a8755acc0>,\n",
       " 'KIC 8462852': <pocs.scheduler.observation.Observation at 0x7f7a85b84710>,\n",
       " 'Kepler 1100': <pocs.scheduler.observation.Observation at 0x7f7a85b83710>,\n",
       " 'M42': <pocs.scheduler.observation.Observation at 0x7f7a85428898>,\n",
       " 'M44': <pocs.scheduler.observation.Observation at 0x7f7a85431828>,\n",
       " 'M45': <pocs.scheduler.observation.Observation at 0x7f7a845057b8>,\n",
       " 'M5': <pocs.scheduler.observation.Observation at 0x7f7a8450d748>,\n",
       " 'Qatar-1': <pocs.scheduler.observation.Observation at 0x7f7a85423a90>,\n",
       " 'Tres 3': <pocs.scheduler.observation.Observation at 0x7f7a8540ff28>,\n",
       " 'Wasp 104': <pocs.scheduler.observation.Observation at 0x7f7a8751c630>,\n",
       " 'Wasp 11': <pocs.scheduler.observation.Observation at 0x7f7a865c8be0>,\n",
       " 'Wasp 140': <pocs.scheduler.observation.Observation at 0x7f7a8751c5c0>,\n",
       " 'Wasp 2': <pocs.scheduler.observation.Observation at 0x7f7a865bbb38>,\n",
       " 'Wasp 33': <pocs.scheduler.observation.Observation at 0x7f7a865b1cc0>,\n",
       " 'Wasp 35': <pocs.scheduler.observation.Observation at 0x7f7a853f8b70>,\n",
       " 'Wasp 36': <pocs.scheduler.observation.Observation at 0x7f7a865bcc50>,\n",
       " 'Wasp 44': <pocs.scheduler.observation.Observation at 0x7f7a8751ee48>,\n",
       " 'Wasp 77': <pocs.scheduler.observation.Observation at 0x7f7a865a5d30>}"
      ]
     },
     "execution_count": 10,
     "metadata": {},
     "output_type": "execute_result"
    }
   ],
   "source": [
    "pocs.observatory.scheduler.observations"
   ]
  }
 ],
 "metadata": {
  "anaconda-cloud": {},
  "kernelspec": {
   "display_name": "Python 3",
   "language": "python",
   "name": "python3"
  },
  "language_info": {
   "codemirror_mode": {
    "name": "ipython",
    "version": 3
   },
   "file_extension": ".py",
   "mimetype": "text/x-python",
   "name": "python",
   "nbconvert_exporter": "python",
   "pygments_lexer": "ipython3",
   "version": "3.8.3"
  }
 },
 "nbformat": 4,
 "nbformat_minor": 4
}
