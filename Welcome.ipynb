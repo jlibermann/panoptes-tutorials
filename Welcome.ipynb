{
 "cells": [
  {
   "cell_type": "markdown",
   "metadata": {
    "pycharm": {
     "name": "#%% md\n"
    }
   },
   "source": [
    "## PANOPTES Playground\n",
    "\n",
    "Hello! Welcome to the PANOPTES playground!\n",
    "\n",
    "This playground is designed to help you get familiar with the PANOPTES\n",
    "ecosystem, both for people who want to use the data as well as robots that\n",
    "want to find exoplanets.\n",
    "\n",
    "> **Remember to use `Shift-Enter` to run and move between cells.**"
   ]
  },
  {
   "cell_type": "markdown",
   "metadata": {},
   "source": [
    "There are three main ways you can use these tutorials:\n",
    "\n",
    "* To access and use the PANOPTES data.\n",
    "* To simulate or test a PANOPTES unit with the PANOPTES Observatory Control System (POCS).\n",
    "* To help you learn Python and other fun programming tools!"
   ]
  },
  {
   "cell_type": "markdown",
   "metadata": {},
   "source": [
    "## Data Access\n",
    "\n",
    "PANOPTES data is stored within the [Google Cloud Platform (GCP)](https://cloud.google.com/).\n",
    "\n",
    "Images, such as FITS files, JPGs, and the Canon CR2 files, are all stored within a [Cloud Storage](https://cloud.google.com/storage) \"bucket\".\n",
    "\n",
    "Metadata about the images is stored at the observation level within a [Firestore database](https://firebase.google.com/docs/firestore)."
   ]
  },
  {
   "cell_type": "markdown",
   "metadata": {},
   "source": [
    "The [`panoptes-utils`](https://panoptes-utils.readthedocs.org) module has some tools that make finding and getting this data easy.\n",
    "\n",
    "To start with, try the [How to Get PANOPTES Data Notebook](../panoptes-utils/examples/How%20to%20Get%20PANOPTES%20Data.ipynb)."
   ]
  },
  {
   "cell_type": "markdown",
   "metadata": {},
   "source": [
    "## POCS\n",
    "\n",
    "*Coming Soon!*"
   ]
  },
  {
   "cell_type": "markdown",
   "metadata": {},
   "source": [
    "## Programming\n",
    "\n",
    "*Coming Soon!*"
   ]
  }
 ],
 "metadata": {
  "kernelspec": {
   "display_name": "Python 3",
   "language": "python",
   "name": "python3"
  },
  "language_info": {
   "codemirror_mode": {
    "name": "ipython",
    "version": 3
   },
   "file_extension": ".py",
   "mimetype": "text/x-python",
   "name": "python",
   "nbconvert_exporter": "python",
   "pygments_lexer": "ipython3",
   "version": "3.8.2"
  }
 },
 "nbformat": 4,
 "nbformat_minor": 4
}