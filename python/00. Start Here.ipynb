{
 "cells": [
  {
   "cell_type": "markdown",
   "metadata": {},
   "source": [
    "# What is Python?\n",
    "\n",
    "Python is a computer language used throughout science. It allows us to perform tedious, or complicated tasks much easier than manually doing them.\n",
    "\n",
    "Throughout the following notebooks, we'll explore how to use python to interact with your telescope."
   ]
  },
  {
   "cell_type": "markdown",
   "metadata": {},
   "source": [
    "# What is a Jupyter Notebook?\n",
    "The website you're using at the moment is a Jupyter Notebook. It's a way for us to shar python code with you, and will give you a chance to write some python yourself. In the cell below is some python code. Click on it then press `shift+enter` to run it."
   ]
  },
  {
   "cell_type": "code",
   "execution_count": 1,
   "metadata": {},
   "outputs": [
    {
     "name": "stdout",
     "output_type": "stream",
     "text": [
      "Hello World\n"
     ]
    }
   ],
   "source": [
    "print(\"Hello World!\")"
   ]
  },
  {
   "cell_type": "markdown",
   "metadata": {},
   "source": [
    "You should see the words `Hello World!` appear below the code. This is the output of the python code. The code is built up of a `function` and a `variable`.\n",
    "\n",
    "----------------------------------------------------\n",
    "\n",
    "        This is a variable\n",
    "\n",
    "                ↓\n",
    "```python\n",
    "print(\"Hello World!\")\n",
    "```\n",
    "      ↑\n",
    "This is the function\n",
    "\n",
    "----------------------------------------------------\n",
    "\n",
    "You will learn all about `variables`, `functions` and many other aspects of python throughout the following notebooks:"
   ]
  },
  {
   "cell_type": "markdown",
   "metadata": {},
   "source": [
    "1. [Variables](01.%20Variables.ipynb)\n",
    "2. [Data Types](02.%20Data%20Types.ipynb)\n",
    "3. [Math](03.%20Math.ipynb)\n",
    "4. [Lists](04.%20Lists.ipynb)\n",
    "5. [Dictionaries](05.%20Dictionaries.ipynb)\n",
    "6. [Control Flow](06.%20Control%20Flow.ipynb)\n",
    "7. [Loops](07.%20Loops.ipynb)\n",
    "8. [Functions](08.%20Functions.ipynb)\n",
    "9. [Classes](09.%20Classes.ipynb)\n",
    "10. [Modules](10.%20Modules.ipynb)\n",
    "11. [Input and Output](11.%20Input%20and%20Output.ipynb)\n",
    "12. [Errors](12.%20Errors.ipynb)\n",
    "13. [Numpy](13.%20Numpy.ipynb)\n",
    "14. [Matplotlib](14.%20Matplotlib.ipynb)\n",
    "15. [Pandas](15.%20Pandas.ipynb)\n",
    "16. [Astropy](16.%20Astropy.ipynb)"
   ]
  },
  {
   "cell_type": "code",
   "execution_count": null,
   "metadata": {},
   "outputs": [],
   "source": []
  }
 ],
 "metadata": {
  "kernelspec": {
   "display_name": "Python 3",
   "language": "python",
   "name": "python3"
  },
  "language_info": {
   "codemirror_mode": {
    "name": "ipython",
    "version": 3
   },
   "file_extension": ".py",
   "mimetype": "text/x-python",
   "name": "python",
   "nbconvert_exporter": "python",
   "pygments_lexer": "ipython3",
   "version": "3.6.6"
  }
 },
 "nbformat": 4,
 "nbformat_minor": 4
}
