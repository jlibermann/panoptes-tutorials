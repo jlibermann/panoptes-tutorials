{
 "cells": [
  {
   "cell_type": "markdown",
   "metadata": {},
   "source": [
    "# 02. Math\n",
    "One important use of python is to do math which would normally be too difficult, or too repetitive to do yourself."
   ]
  },
  {
   "cell_type": "markdown",
   "metadata": {},
   "source": [
    "Python allows you to do many of the normal mathematical operations including:"
   ]
  },
  {
   "cell_type": "code",
   "execution_count": 8,
   "metadata": {},
   "outputs": [
    {
     "name": "stdout",
     "output_type": "stream",
     "text": [
      "Addition: 8.1\n",
      "Subtraction: 0.30000000000000027\n",
      "Multiplication: 16.38\n",
      "Division: 1.076923076923077\n",
      "Integer division: 1.0\n",
      "Remainder: 0.30000000000000027\n",
      "Power: 269.57041830455506\n"
     ]
    }
   ],
   "source": [
    "addition = 4.2 + 3.9\n",
    "print(f\"Addition: {addition}\")\n",
    "\n",
    "subtraction = 4.2 - 3.9\n",
    "print(f\"Subtraction: {subtraction}\")\n",
    "\n",
    "multiplication = 4.2 * 3.9\n",
    "print(f\"Multiplication: {multiplication}\")\n",
    "\n",
    "division = 4.2 / 3.9\n",
    "print(f\"Division: {str(division)}\")\n",
    "\n",
    "integer_division = 4.2 // 3.9\n",
    "print(f\"Integer division: {integer_division}\")\n",
    "\n",
    "remainder = 4.2 % 3.9\n",
    "print(f\"Remainder: {remainder}\")\n",
    "\n",
    "power = 4.2 ** 3.9\n",
    "print(f\"Power: {power}\")\n"
   ]
  },
  {
   "cell_type": "markdown",
   "metadata": {},
   "source": [
    "Did any of those results surprise you? What about 4.2-3.9? We know that is equal to 0.3, but python tells us it's 0.30000000000000027!\n",
    "\n",
    "What you're seeing here is a phenomenon known as `floating point error`. Normally when we think about number, we think in `base 10`. The `base` you use tells you how high you count before changing the next digit. So in `base 10` we count 01, 02, 03, 04, 05, 06, 07, 08, 09 and then 10. We then count 11, 12, 13, 14, 15, 16, 17, 18, 19, and then since we've counted another 10, the next digit changes to a 2 (20).\n",
    "\n",
    "Computers don't use `base 10`, they use `base 2` or binary:\n",
    "\n",
    "| Base 10 (Decimal) | Base 2 (Binary) |\n",
    "|-------------------|-----------------|\n",
    "|        0          |        0        |\n",
    "|        1          |        1        |\n",
    "|        2          |       10        |\n",
    "|        3          |       11        |\n",
    "|        4          |      100        |\n",
    "|        5          |      101        |\n",
    "\n",
    "And so on. The reason we get `floating point error` is because there are some numbers which can't be stored correctly in binary. Consider what happens when you divide 10 by 3. The answer is 0.333333... (the 3's go on forever). A computer wouldn't be able to store this number exactly because you can't store an infinite amount of information. Your computer could use all its storage space and still not be able to exactly store this number. When we write 4.2-3.9, python converts those numbers into binary and then subtracts them and then converts it back into decimal to show to us. It is converting back and forth between binary and decimal which produces these errors."
   ]
  },
  {
   "cell_type": "markdown",
   "metadata": {},
   "source": [
    "# Advanced Mathematics\n",
    "\n",
    "You can do a lot more with python than just those simple operations. To start you need to add extra functionalility to the base python. This is done by `importing` a package. You can learn more in the [Modules](10.%20Modules.ipynb) section."
   ]
  },
  {
   "cell_type": "code",
   "execution_count": 9,
   "metadata": {},
   "outputs": [],
   "source": [
    "import math"
   ]
  },
  {
   "cell_type": "markdown",
   "metadata": {},
   "source": [
    "Now that we've imported this, we can start doing some more interesting mathematics including:"
   ]
  },
  {
   "cell_type": "code",
   "execution_count": 13,
   "metadata": {},
   "outputs": [
    {
     "name": "stdout",
     "output_type": "stream",
     "text": [
      "Pi: 3.141592653589793\n",
      "Factorial: 120\n",
      "Exponential: 148.4131591025766\n",
      "Logarithm: 1.6094379124341003\n",
      "Log base 10: 0.6989700043360189\n",
      "Square root 2.23606797749979\n",
      "Sin: 1.2246467991473532e-16\n",
      "Cos: -1.0\n",
      "Tan: -1.2246467991473532e-16\n"
     ]
    }
   ],
   "source": [
    "pi = math.pi\n",
    "print(f\"Pi: {pi}\")\n",
    "\n",
    "factorial = math.factorial(5)\n",
    "print(f\"Factorial: {factorial}\")\n",
    "\n",
    "exponential = math.exp(5)\n",
    "print(f\"Exponential: {exponential}\")\n",
    "\n",
    "logarithm = math.log(5)\n",
    "print(f\"Logarithm: {logarithm}\")\n",
    "\n",
    "log_base_10 = math.log10(5)\n",
    "print(f\"Log base 10: {log_base_10}\")\n",
    "\n",
    "square_root = math.sqrt(5)\n",
    "print(f\"Square root {square_root}\")\n",
    "\n",
    "sin = math.sin(pi)\n",
    "print(f\"Sin: {sin}\")\n",
    "\n",
    "cos = math.cos(pi)\n",
    "print(f\"Cos: {cos}\")\n",
    "\n",
    "tan = math.tan(pi)\n",
    "print(f\"Tan: {tan}\")"
   ]
  },
  {
   "cell_type": "markdown",
   "metadata": {},
   "source": [
    "Once again, look at the answers and see if any look strange. Grab a calculator and sheck if you get the answer you expect.\n",
    "\n",
    "Sin and Tan of $\\pi$ should be equal to 0, but we see that it's equal to $+$(or$-$)$1.22*10^{-16}$. This is those annoying floating point errors popping up again."
   ]
  },
  {
   "cell_type": "markdown",
   "metadata": {},
   "source": [
    "There are many other things you can do with the `math` package. A list of the most commonly used functions is given [here](https://www.programiz.com/python-programming/modules/math). In the following python cell go through the list and try out a few of the functions. Remember to use a function you need to prepend the name with `math.function_name`"
   ]
  },
  {
   "cell_type": "code",
   "execution_count": null,
   "metadata": {},
   "outputs": [],
   "source": [
    "# Try out different math functions here!"
   ]
  }
 ],
 "metadata": {
  "kernelspec": {
   "display_name": "Python 3",
   "language": "python",
   "name": "python3"
  },
  "language_info": {
   "codemirror_mode": {
    "name": "ipython",
    "version": 3
   },
   "file_extension": ".py",
   "mimetype": "text/x-python",
   "name": "python",
   "nbconvert_exporter": "python",
   "pygments_lexer": "ipython3",
   "version": "3.6.6"
  }
 },
 "nbformat": 4,
 "nbformat_minor": 4
}
