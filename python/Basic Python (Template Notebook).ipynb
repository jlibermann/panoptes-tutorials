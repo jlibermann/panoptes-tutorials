{
 "cells": [
  {
   "cell_type": "markdown",
   "metadata": {},
   "source": [
    "# Basic Introduction to Python\n",
    "Python is a programming language used all throughout science. It is simple to write in, but can be very powerful.\n",
    "\n",
    "This notebook will take you through the basics of Python."
   ]
  },
  {
   "cell_type": "markdown",
   "metadata": {},
   "source": [
    "A classic first step when learning a new language is getting the language to say \"Hello World!\". In python this is done using the following code:\n",
    "\n",
    "(Tip: press `shift+enter` to run the below block of code)"
   ]
  },
  {
   "cell_type": "code",
   "execution_count": 1,
   "metadata": {},
   "outputs": [
    {
     "name": "stdout",
     "output_type": "stream",
     "text": [
      "Hello World!\n"
     ]
    }
   ],
   "source": [
    "print(\"Hello World!\")"
   ]
  },
  {
   "cell_type": "markdown",
   "metadata": {},
   "source": [
    "Let's look at what's happening here. What've we've done is run a `function` by giving it a `variable`.\n",
    "\n",
    "\n",
    "----------------------------------------------------\n",
    "\n",
    "        This is a variable\n",
    "\n",
    "                ↓\n",
    "```python\n",
    "print(\"Hello World!\")\n",
    "```\n",
    "      ↑\n",
    "This is the function\n",
    "\n",
    "----------------------------------------------------\n",
    "\n",
    "`Functions` are ways of getting your code to do something. `Variables` allow you to store values.\n",
    "\n",
    "To create a `variable` you simply give it a `name` and a `value`:"
   ]
  },
  {
   "cell_type": "code",
   "execution_count": 6,
   "metadata": {},
   "outputs": [
    {
     "name": "stdout",
     "output_type": "stream",
     "text": [
      "value\n"
     ]
    }
   ],
   "source": [
    "name = \"value\"\n",
    "print(name)"
   ]
  },
  {
   "cell_type": "markdown",
   "metadata": {},
   "source": [
    "Now python knows that the `variable` `name` should give `value` and prints that.\n",
    "\n",
    "## Challenge 1:\n",
    "In the following block, create a variable which holds your name and then print it out"
   ]
  },
  {
   "cell_type": "code",
   "execution_count": 2,
   "metadata": {},
   "outputs": [],
   "source": [
    "# First create a variable\n",
    "\n",
    "# Then print it out\n"
   ]
  },
  {
   "cell_type": "markdown",
   "metadata": {},
   "source": [
    "# Other Types\n",
    "\n",
    "`Variables` don't have to just be words (also known as `Strings`). They can be all sorts of things, including:"
   ]
  },
  {
   "cell_type": "code",
   "execution_count": 7,
   "metadata": {},
   "outputs": [],
   "source": [
    "integers = 42\n",
    "floats = 42.42\n",
    "scientific_numbers = 4e2\n",
    "complex_numbers = 4+2j\n",
    "booleans = True\n",
    "strings = \"Hello World!\""
   ]
  },
  {
   "cell_type": "markdown",
   "metadata": {},
   "source": [
    "## Challenge 2:\n",
    "Create a variable which stores your age, whether you are older than 16, and your favourite food"
   ]
  },
  {
   "cell_type": "code",
   "execution_count": 3,
   "metadata": {},
   "outputs": [],
   "source": [
    "# The year you were born\n",
    "\n",
    "# Are you older than 16\n",
    "\n",
    "# What is your favourite food"
   ]
  },
  {
   "cell_type": "markdown",
   "metadata": {},
   "source": [
    "# Maths\n",
    "\n",
    "Surprisingly, you can do more than just create variables and print them. A big part of programming is using it to do maths. You can do a lot of basic operations really easily:"
   ]
  },
  {
   "cell_type": "code",
   "execution_count": 9,
   "metadata": {},
   "outputs": [
    {
     "name": "stdout",
     "output_type": "stream",
     "text": [
      "20\n",
      "0\n",
      "100\n",
      "1.0\n",
      "10000000000\n"
     ]
    }
   ],
   "source": [
    "# Addition\n",
    "print(10 + 10)\n",
    "\n",
    "# Subtraction\n",
    "print(10 - 10)\n",
    "\n",
    "# Multiplication\n",
    "print(10 * 10)\n",
    "\n",
    "# Division\n",
    "print(10 / 10)\n",
    "\n",
    "# Powers\n",
    "print(10 ** 10)"
   ]
  },
  {
   "cell_type": "markdown",
   "metadata": {},
   "source": [
    "## Challenge 3\n",
    "Create a small number and big number variable. Apply all the above operations to these numbers"
   ]
  },
  {
   "cell_type": "code",
   "execution_count": 4,
   "metadata": {},
   "outputs": [],
   "source": [
    "# Create a small number variable\n",
    "\n",
    "# Create a big number variable\n",
    "\n",
    "# Add them together\n",
    "\n",
    "# Subtract them\n",
    "\n",
    "# Multiply them\n",
    "\n",
    "# Divide them\n",
    "\n",
    "# Raise one to the power of the other"
   ]
  },
  {
   "cell_type": "markdown",
   "metadata": {},
   "source": [
    "# Lists\n",
    "\n",
    "A `list` is used to store a lot of values at once. You can create a list in a number of ways"
   ]
  },
  {
   "cell_type": "code",
   "execution_count": 10,
   "metadata": {},
   "outputs": [],
   "source": [
    "simple_list = [1, 2, 3, 4, 5]\n",
    "empty_list = []\n",
    "automatic_list = list(range(1,6))\n",
    "string_list = [\"alpha\", \"beta\", \"charlie\", \"delta\"]\n",
    "mixed_list = [\"alpha\", 2, False]"
   ]
  },
  {
   "cell_type": "markdown",
   "metadata": {},
   "source": [
    "Note the `automatic_list`. Here we used the `function`: `range` to get the numbers 1 → 5 and then the `function`: `list` to put those numbers into a `list`.\n",
    "\n",
    "Once we've made a list, we interact with it. We can:\n",
    "\n",
    "    Get elements from a list:"
   ]
  },
  {
   "cell_type": "code",
   "execution_count": 13,
   "metadata": {},
   "outputs": [
    {
     "name": "stdout",
     "output_type": "stream",
     "text": [
      "1\n",
      "['beta', 'charlie']\n",
      "False\n"
     ]
    }
   ],
   "source": [
    "# Get's the first element of simple_list.\n",
    "print(simple_list[0])\n",
    "\n",
    "# Get's all the elements of string_list between the second and fourth element (not including the fourth).\n",
    "print(string_list[1:3])\n",
    "\n",
    "# Get's the last element of mixed_list.\n",
    "print(mixed_list[-1]) "
   ]
  },
  {
   "cell_type": "markdown",
   "metadata": {},
   "source": [
    "    Add lists together:"
   ]
  },
  {
   "cell_type": "code",
   "execution_count": 14,
   "metadata": {},
   "outputs": [
    {
     "name": "stdout",
     "output_type": "stream",
     "text": [
      "[1, 2, 3, 4, 5, 'alpha', 2, False]\n"
     ]
    }
   ],
   "source": [
    "print(simple_list + mixed_list)"
   ]
  },
  {
   "cell_type": "markdown",
   "metadata": {},
   "source": [
    "    Add new elements to a list"
   ]
  },
  {
   "cell_type": "code",
   "execution_count": 15,
   "metadata": {},
   "outputs": [
    {
     "name": "stdout",
     "output_type": "stream",
     "text": [
      "[1, 2, 3, 4, 5, 6]\n"
     ]
    }
   ],
   "source": [
    "simple_list.append(6)\n",
    "print(simple_list)"
   ]
  },
  {
   "cell_type": "markdown",
   "metadata": {},
   "source": [
    "    Delete elements from a list"
   ]
  },
  {
   "cell_type": "code",
   "execution_count": 17,
   "metadata": {},
   "outputs": [
    {
     "name": "stdout",
     "output_type": "stream",
     "text": [
      "[3, 4, 5, 6]\n"
     ]
    }
   ],
   "source": [
    "del simple_list[0]\n",
    "print(simple_list)"
   ]
  },
  {
   "cell_type": "markdown",
   "metadata": {},
   "source": [
    "    Change elements in a list"
   ]
  },
  {
   "cell_type": "code",
   "execution_count": 19,
   "metadata": {},
   "outputs": [
    {
     "name": "stdout",
     "output_type": "stream",
     "text": [
      "[3, 4, 42, 6]\n"
     ]
    }
   ],
   "source": [
    "simple_list[2] = 42 # Note that the third element is at index 2\n",
    "print(simple_list)"
   ]
  },
  {
   "cell_type": "markdown",
   "metadata": {},
   "source": [
    "## Challenge 4\n",
    "\n",
    "Add and remove elements from list_wrong until it is equal to list_right"
   ]
  },
  {
   "cell_type": "code",
   "execution_count": 20,
   "metadata": {},
   "outputs": [
    {
     "name": "stdout",
     "output_type": "stream",
     "text": [
      "False\n"
     ]
    }
   ],
   "source": [
    "list_wrong = [9, 1, 2, 3, 5]\n",
    "\n",
    "list_right = [1, 2, 3, 4, 5]\n",
    "\n",
    "# Change list_wrong here\n",
    "\n",
    "# If you did everything correctly, this should print True\n",
    "print(list_wrong == list_right)"
   ]
  },
  {
   "cell_type": "code",
   "execution_count": null,
   "metadata": {},
   "outputs": [],
   "source": []
  }
 ],
 "metadata": {
  "kernelspec": {
   "display_name": "Python 3",
   "language": "python",
   "name": "python3"
  },
  "language_info": {
   "codemirror_mode": {
    "name": "ipython",
    "version": 3
   },
   "file_extension": ".py",
   "mimetype": "text/x-python",
   "name": "python",
   "nbconvert_exporter": "python",
   "pygments_lexer": "ipython3",
   "version": "3.6.6"
  }
 },
 "nbformat": 4,
 "nbformat_minor": 2
}
