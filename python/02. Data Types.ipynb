{
 "cells": [
  {
   "cell_type": "markdown",
   "metadata": {},
   "source": [
    "# Introduction to Data Types\n",
    "\n",
    "Programming languages use different data types to handle different types of variables.  For example, changing the variable `\"four plus five\"` to `\"nine\"` is handled differently to changing `4+5` to `9`.\n",
    "\n",
    "To understand how we can use different data types, we first need to learn what they are.  A lot of data types are common across multiple programming languages, but here we will only be talking about data types in Python."
   ]
  },
  {
   "cell_type": "markdown",
   "metadata": {},
   "source": [
    "## Numeric Data Types\n",
    "\n",
    "A numeric data type is a data type that involved a number.  Python has three numeric data types:\n",
    "\n",
    "#### Integer\n",
    "An integer is any whole number.  They can be positive or negative, as long as there is no fractional/decimal component.  Here are some examples:"
   ]
  },
  {
   "cell_type": "code",
   "execution_count": 2,
   "metadata": {},
   "outputs": [],
   "source": [
    "int_example = 1\n",
    "another_int_example = -900"
   ]
  },
  {
   "cell_type": "markdown",
   "metadata": {},
   "source": [
    "#### Float\n",
    "\n",
    "A float is a number that contains a decimal component.  This includes scientific notation.  They can be positive or negative.  Here are some examples:"
   ]
  },
  {
   "cell_type": "code",
   "execution_count": 6,
   "metadata": {},
   "outputs": [],
   "source": [
    "float_example = 0.0\n",
    "another_float_example = -3.14159265359\n",
    "yet_another_float_example = 1.23e-5 # This is scientific notation in Python."
   ]
  },
  {
   "cell_type": "markdown",
   "metadata": {},
   "source": [
    "#### Complex number\n",
    "\n",
    "A complex number has a real and imaginary component.  You may have seen them in math class as, for example, 3 + 5i.  In Python we use `j` instead of i to represent the imaginary components.  Here are some examples:"
   ]
  },
  {
   "cell_type": "code",
   "execution_count": 7,
   "metadata": {},
   "outputs": [],
   "source": [
    "complex_example = 2.5 - 9j\n",
    "another_complex_example = 0 + 1j"
   ]
  },
  {
   "cell_type": "markdown",
   "metadata": {},
   "source": [
    "## True-or-False Data Types \n",
    "\n",
    "#### Boolean\n",
    "Data that can only be `True` or `False` are 'boolean' data types.  Here are some examples:"
   ]
  },
  {
   "cell_type": "code",
   "execution_count": 9,
   "metadata": {},
   "outputs": [],
   "source": [
    "do_something_if_true = True"
   ]
  },
  {
   "cell_type": "markdown",
   "metadata": {},
   "source": [
    "This shows how you can toggle behaviour in Python using booleans."
   ]
  },
  {
   "cell_type": "markdown",
   "metadata": {},
   "source": [
    "## Sequence (Ordered) Data Types\n",
    "\n",
    "Sequenced data is an ordered collection of data.  The data in the sequence could be a combination of other data types.  Python has three built-in sequence data types:\n",
    "\n",
    "#### String:\n",
    "A string contains one or more characters surrounded by quotation marks.  You can use single (`'`), double (`\"`), or even triple (`'''` or `\"\"\"`) quotation marks in Python - whichever you choose to use, you should make sure you are consistent in all your code, so you're not mixing single and double quotes.  Here are some examples of strings:"
   ]
  },
  {
   "cell_type": "code",
   "execution_count": 17,
   "metadata": {},
   "outputs": [],
   "source": [
    "string_example = \"cats\"\n",
    "another_string_example = 'z'\n",
    "yet_another_string_example = '''A whole list of words, including special characters!$.*{}'''\n",
    "still_a_string_example = \"6\""
   ]
  },
  {
   "cell_type": "markdown",
   "metadata": {},
   "source": [
    "`incorrect_string = 'wrong!\"` is *not* a valid string, as it does not have matching quotation marks.\n",
    "\n",
    "If you would like to include a quotation mark *inside* a string, you will need to use a special escape character, `\\`.  This allows Python to recognise the quotation mark as part of the string.  The escape character `\\` will not be printed out.  Let's look at an example, using Python's `print()` function (you will learn more about functions in another tutorial)."
   ]
  },
  {
   "cell_type": "code",
   "execution_count": 16,
   "metadata": {},
   "outputs": [
    {
     "name": "stdout",
     "output_type": "stream",
     "text": [
      "Python: it's awesome!\n"
     ]
    }
   ],
   "source": [
    "x = 'Python: it\\'s awesome!'\n",
    "print(x)"
   ]
  },
  {
   "cell_type": "markdown",
   "metadata": {},
   "source": [
    "##### f-string\n",
    "\n",
    "Python's f-strings are technically a string formatting syntax rather than a data type, but seeing as they are an extension of strings, we will look at them here.\n",
    "\n",
    "Say you want a string to include a particular value that you might not know at the time of creating the string.  For example:"
   ]
  },
  {
   "cell_type": "code",
   "execution_count": 19,
   "metadata": {},
   "outputs": [],
   "source": [
    "string_about_class_size = \"There are 25 students in the class\""
   ]
  },
  {
   "cell_type": "markdown",
   "metadata": {},
   "source": [
    "If you don't know how many students are in the class, you can use an f-string to insert a variable (we will use `y`) instead of the number 25.  This is particularly helpful when working with functions later. \n",
    "\n",
    "Note that you will have to define the variable `y` before defining the f-string, as the f-string uses the value of `y`.  To create an f-string, write `f` in front of your opening quotation mark.  Then use curly braces around the variable `{y}` inside your string.  The variable can be any data type you like.  In the example below, try changing the value of `y` to see how the f-string changes when it is printed out."
   ]
  },
  {
   "cell_type": "code",
   "execution_count": 23,
   "metadata": {},
   "outputs": [
    {
     "name": "stdout",
     "output_type": "stream",
     "text": [
      "There are 25 students in the class\n"
     ]
    }
   ],
   "source": [
    "y = 25\n",
    "f_string_example = f\"There are {y} students in the class\"\n",
    "\n",
    "print(f_string_example)"
   ]
  },
  {
   "cell_type": "markdown",
   "metadata": {},
   "source": [
    "What happens if you set `y` as a float, or another string?"
   ]
  },
  {
   "cell_type": "markdown",
   "metadata": {},
   "source": [
    "#### List\n",
    "\n",
    "A list is a collection of data, separated by commas, and surrounded by square brackets `[]`.  Note that the order of lists is important!  The items in a list do not have to have the same data type, you can mix and match.  Here are some examples:\n",
    "\n"
   ]
  },
  {
   "cell_type": "code",
   "execution_count": 25,
   "metadata": {},
   "outputs": [],
   "source": [
    "list_example = [1, 'two', 3.0, 4+1j]\n",
    "empty_list_example = []"
   ]
  },
  {
   "cell_type": "markdown",
   "metadata": {},
   "source": [
    "An empty list, as shown above, is also valid!  You can define empty lists and add to them later.  You can read more about lists [here](04.%20Lists.ipynb)."
   ]
  },
  {
   "cell_type": "markdown",
   "metadata": {},
   "source": [
    "#### Tuple\n",
    "\n",
    "A tuple is similar to a list, but uses round brackets `()` instead of square brackets.  Unlike a list, a tuple *cannot* be changed after it is created.  Here is an example:"
   ]
  },
  {
   "cell_type": "code",
   "execution_count": 29,
   "metadata": {},
   "outputs": [],
   "source": [
    "tuple_example = (\"this\", \"is\", \"a\", \"tuple\")"
   ]
  },
  {
   "cell_type": "markdown",
   "metadata": {},
   "source": [
    "## Unordered Data Types\n",
    "\n",
    "#### Dictionary\n",
    "\n",
    "A Python dictionary is an *unordered* collection of data.  Much like a real-world dictionary where you might look up a word to get it's definition, in Python dictionaries you can look up a `key` to get its `value`.  We write dictionaries with curly braces `{}`.  Each 'item' in a dictionary is a `key:value` pair, and the items are separated by commas.  Here are some examples:"
   ]
  },
  {
   "cell_type": "code",
   "execution_count": 31,
   "metadata": {},
   "outputs": [],
   "source": [
    "dictionary_example = {\"Python version\":3.7,\n",
    "                      \"list_of_zeros\":[0,0,0,0], \n",
    "                      3:\"third value in dictionary\"}"
   ]
  },
  {
   "cell_type": "markdown",
   "metadata": {},
   "source": [
    "As you can see, we can use any combination of data types as a `key:value` pair.  You can retrieve a dictionary value by calling the dictionary name, followed by the key name in square brackets.  Let's see an example of retrieving a value using a dictionary key:"
   ]
  },
  {
   "cell_type": "code",
   "execution_count": 33,
   "metadata": {},
   "outputs": [
    {
     "data": {
      "text/plain": [
       "3.7"
      ]
     },
     "execution_count": 33,
     "metadata": {},
     "output_type": "execute_result"
    }
   ],
   "source": [
    "dictionary_example[\"Python version\"]"
   ]
  },
  {
   "cell_type": "code",
   "execution_count": 36,
   "metadata": {},
   "outputs": [
    {
     "data": {
      "text/plain": [
       "'third value in dictionary'"
      ]
     },
     "execution_count": 36,
     "metadata": {},
     "output_type": "execute_result"
    }
   ],
   "source": [
    "dictionary_example[3]"
   ]
  },
  {
   "cell_type": "markdown",
   "metadata": {},
   "source": [
    "In the cell below, try to retrieve the list of zeros in our dictionary example, using its key:"
   ]
  },
  {
   "cell_type": "code",
   "execution_count": 1,
   "metadata": {},
   "outputs": [],
   "source": [
    "# Your attempt goes here!\n"
   ]
  },
  {
   "cell_type": "markdown",
   "metadata": {},
   "source": [
    "For more on dictionaries, see our dictionaries tutorial [here](05.%20Dictionaries.ipynb)."
   ]
  },
  {
   "cell_type": "markdown",
   "metadata": {},
   "source": [
    "## Some challenges for you!\n",
    "\n",
    "Now that we know the Python data types, we can test our understanding with some questions.  \n",
    "\n",
    "#### In the cell below, write some examples for the data types listed (change the zeros to your examples):"
   ]
  },
  {
   "cell_type": "code",
   "execution_count": 2,
   "metadata": {},
   "outputs": [],
   "source": [
    "your_float_example = 0\n",
    "your_list_example = 0\n",
    "your_dictionary_example = 0\n",
    "your_string_example = 0\n",
    "your_complex_number_example = 0"
   ]
  },
  {
   "cell_type": "markdown",
   "metadata": {},
   "source": [
    "#### Now, correct the errors in the following data type examples:"
   ]
  },
  {
   "cell_type": "code",
   "execution_count": 43,
   "metadata": {},
   "outputs": [
    {
     "ename": "SyntaxError",
     "evalue": "invalid syntax (<ipython-input-43-50f9711b8e5c>, line 3)",
     "output_type": "error",
     "traceback": [
      "\u001b[0;36m  File \u001b[0;32m\"<ipython-input-43-50f9711b8e5c>\"\u001b[0;36m, line \u001b[0;32m3\u001b[0m\n\u001b[0;31m    your_harder_string_example = 'This one's tricky!'\u001b[0m\n\u001b[0m                                           ^\u001b[0m\n\u001b[0;31mSyntaxError\u001b[0m\u001b[0;31m:\u001b[0m invalid syntax\n"
     ]
    }
   ],
   "source": [
    "your_int_example = 3.0\n",
    "your_tuple_example = [\"am\", \"I\", \"a\", \"tuple?\"]\n",
    "your_harder_string_example = 'This one's tricky!'"
   ]
  },
  {
   "cell_type": "markdown",
   "metadata": {},
   "source": [
    "#### Finally, go back and check your answers using the `type()` function.\n",
    "\n",
    "Python's `type()` function prints out the data type of a variable.  Here's an example:"
   ]
  },
  {
   "cell_type": "code",
   "execution_count": 42,
   "metadata": {},
   "outputs": [
    {
     "data": {
      "text/plain": [
       "str"
      ]
     },
     "execution_count": 42,
     "metadata": {},
     "output_type": "execute_result"
    }
   ],
   "source": [
    "mystery_data_type = \"what am I?\"\n",
    "type(mystery_data_type)"
   ]
  },
  {
   "cell_type": "markdown",
   "metadata": {},
   "source": [
    "Go back and check your answers using the `type()` function.  If you are correct, the type function should return the expected data type.  If not, check your understanding and try again!"
   ]
  },
  {
   "cell_type": "markdown",
   "metadata": {},
   "source": [
    "Note that jupyter notebook cells will only output the last call to `type()`.  If you want to check everything at once, you will either need to put each call to `type()` in its own cell, or use print statements, as shown below:"
   ]
  },
  {
   "cell_type": "code",
   "execution_count": 49,
   "metadata": {},
   "outputs": [
    {
     "name": "stdout",
     "output_type": "stream",
     "text": [
      "<class 'str'>\n",
      "<class 'float'>\n",
      "<class 'list'>\n"
     ]
    }
   ],
   "source": [
    "a = \"hello!\"\n",
    "b = 1.0\n",
    "c = [5, 10, \"fifteen\"]\n",
    "\n",
    "print(type(a))\n",
    "print(type(b))\n",
    "print(type(c))"
   ]
  }
 ],
 "metadata": {
  "kernelspec": {
   "display_name": "Python 3",
   "language": "python",
   "name": "python3"
  },
  "language_info": {
   "codemirror_mode": {
    "name": "ipython",
    "version": 3
   },
   "file_extension": ".py",
   "mimetype": "text/x-python",
   "name": "python",
   "nbconvert_exporter": "python",
   "pygments_lexer": "ipython3",
   "version": "3.6.6"
  }
 },
 "nbformat": 4,
 "nbformat_minor": 2
}
